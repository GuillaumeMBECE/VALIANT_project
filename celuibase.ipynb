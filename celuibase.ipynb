{
 "cells": [
  {
   "cell_type": "code",
   "execution_count": 2,
   "metadata": {},
   "outputs": [
    {
     "name": "stdout",
     "output_type": "stream",
     "text": [
      "Index(['Date', 'Top', 'Jgl', 'Mid', 'Bot', 'Sup', 'Patch', 'Win - Lose',\n",
      "       'Opponent', 'E-Top', 'E-Jgl', 'E-Mid', 'E-Bot', 'E-Sup', 'side',\n",
      "       'Winrate since the start', '58,48%',\n",
      "       'Winrate Red: 057% | Winrate Blue: 062%', 'Unnamed: 18', 'Unnamed: 19',\n",
      "       'Unnamed: 20', 'Unnamed: 21', 'Unnamed: 22', 'Unnamed: 23',\n",
      "       'Unnamed: 24', 'Champion'],\n",
      "      dtype='object')\n"
     ]
    }
   ],
   "source": [
    "import pandas as pd\n",
    "\n",
    "df = pd.read_csv(\"data/Valiant 2025 - Looker Studio - Scrim champs.csv\")\n",
    "\n",
    "print(df.columns)\n"
   ]
  },
  {
   "cell_type": "markdown",
   "metadata": {},
   "source": [
    "### Garder que les bonnes colonnes (erreur dans fichier csv)"
   ]
  },
  {
   "cell_type": "code",
   "execution_count": 3,
   "metadata": {},
   "outputs": [
    {
     "name": "stdout",
     "output_type": "stream",
     "text": [
      "         Date       Top       Jgl     Mid      Bot    Sup  Patch Win - Lose  \\\n",
      "0  03/12/2024       Jax   Skarner    Ahri  Smolder  Rakan  14.23        Win   \n",
      "1  03/12/2024   Camille  Nocturne   Sylas    Varus   Rell  14.23        Win   \n",
      "2  03/12/2024    Aurora   Skarner    Yone    Corki   Bard  14.23        Win   \n",
      "3  03/12/2024  Renekton      Zyra    Yone     Ashe  Leona  14.23        Win   \n",
      "4  03/12/2024    KSante     Poppy  Aurora  Caitlyn    Lux  14.23        Win   \n",
      "\n",
      "  Opponent    E-Top       E-Jgl    E-Mid    E-Bot     E-Sup  side  \n",
      "0      MCK  Ambessa       Viego   Aurora    Corki    Maokai  Blue  \n",
      "1      MCK  Ambessa    JarvanIV     Ahri     Ashe  Nautilus   Red  \n",
      "2      MCK    Galio  MonkeyKing   Syndra  Kalista    Renata  Blue  \n",
      "3      MCK   Aurora     Skarner  Ambessa   Ezreal     Rakan   Red  \n",
      "4      MCK     Gwen       Viego    Galio  Kalista    Renata  Blue  \n"
     ]
    }
   ],
   "source": [
    "colonnes_a_garder = ['Date', 'Top', 'Jgl', 'Mid', 'Bot', 'Sup', 'Patch', 'Win - Lose',\n",
    "                      'Opponent', 'E-Top', 'E-Jgl', 'E-Mid', 'E-Bot', 'E-Sup', 'side']\n",
    "\n",
    "df = df[colonnes_a_garder]\n",
    "\n",
    "print(df.head())\n"
   ]
  },
  {
   "cell_type": "code",
   "execution_count": 4,
   "metadata": {},
   "outputs": [
    {
     "data": {
      "text/plain": [
       "(301, 15)"
      ]
     },
     "execution_count": 4,
     "metadata": {},
     "output_type": "execute_result"
    }
   ],
   "source": [
    "df.shape"
   ]
  },
  {
   "cell_type": "markdown",
   "metadata": {},
   "source": [
    "# Exploration\n",
    "### Dataframe pour info de base sur les champions"
   ]
  },
  {
   "cell_type": "code",
   "execution_count": 5,
   "metadata": {},
   "outputs": [
    {
     "name": "stdout",
     "output_type": "stream",
     "text": [
      "    Champion  winrate  pickrate  count role\n",
      "1     KSante     0.47      0.11     34  Top\n",
      "2    Ambessa     0.62      0.10     29  Top\n",
      "3      Jayce     0.55      0.07     22  Top\n",
      "4   Renekton     0.71      0.07     21  Top\n",
      "6     Maokai     0.69      0.10     29  Jgl\n",
      "7         Vi     0.71      0.08     24  Jgl\n",
      "8      Ivern     0.43      0.07     21  Jgl\n",
      "9       Zyra     0.58      0.06     19  Jgl\n",
      "11      Ahri     0.72      0.08     25  Mid\n",
      "12      Yone     0.43      0.07     21  Mid\n",
      "13    Viktor     0.60      0.07     20  Mid\n",
      "14   Orianna     0.58      0.06     19  Mid\n",
      "16     Varus     0.57      0.15     46  Bot\n",
      "17      Ashe     0.59      0.10     29  Bot\n",
      "18     Corki     0.67      0.09     27  Bot\n",
      "19     Kaisa     0.55      0.07     20  Bot\n",
      "21      Rell     0.58      0.15     45  Sup\n",
      "22     Leona     0.65      0.13     40  Sup\n",
      "23  Nautilus     0.54      0.08     24  Sup\n",
      "24     Rakan     0.60      0.07     20  Sup\n"
     ]
    }
   ],
   "source": [
    "champion_stats = {'Top': {}, 'Jgl': {}, 'Mid': {}, 'Bot': {}, 'Sup': {}}\n",
    "\n",
    "for index, row in df.iterrows():\n",
    "    for role in ['Top', 'Jgl', 'Mid', 'Bot', 'Sup']:\n",
    "        champion = row[role]\n",
    "        result = row['Win - Lose']\n",
    "        \n",
    "        if champion not in champion_stats[role]:\n",
    "            champion_stats[role][champion] = {'count': 0, 'wins': 0}\n",
    "        \n",
    "        champion_stats[role][champion]['count'] += 1\n",
    "        if result == 'Win':\n",
    "            champion_stats[role][champion]['wins'] += 1\n",
    "\n",
    "winrate_stats = {'Top': [], 'Jgl': [], 'Mid': [], 'Bot': [], 'Sup': []}\n",
    "total_matches = len(df) \n",
    "\n",
    "for role in ['Top', 'Jgl', 'Mid', 'Bot', 'Sup']:\n",
    "    for champion, stats in champion_stats[role].items():\n",
    "        winrate = stats['wins'] / stats['count'] if stats['count'] > 0 else 0\n",
    "        pickrate = stats['count'] / total_matches  \n",
    "        winrate_stats[role].append({\n",
    "            'Champion': champion,\n",
    "            'winrate': round(winrate, 2),\n",
    "            'pickrate': round(pickrate, 2),\n",
    "            'count': stats['count'],\n",
    "            'role': role  \n",
    "        })\n",
    "\n",
    "dfs = {}\n",
    "for role, champions in winrate_stats.items():\n",
    "    df_role = pd.DataFrame(champions)\n",
    "    df_role['role'] = role  \n",
    "    dfs[role] = df_role.nlargest(5, 'count')  \n",
    "\n",
    "final_df = pd.concat(dfs.values(), ignore_index=True)\n",
    "\n",
    "final_df = final_df.dropna(subset=['Champion'])\n",
    "\n",
    "print(final_df)"
   ]
  },
  {
   "cell_type": "markdown",
   "metadata": {},
   "source": [
    "### Top 5 champions winrate aux differents roles"
   ]
  },
  {
   "cell_type": "code",
   "execution_count": 6,
   "metadata": {},
   "outputs": [
    {
     "name": "stdout",
     "output_type": "stream",
     "text": [
      "Top 5 champions winrate aux differents roles:\n",
      " Win - Lose   winrate\n",
      "Top                 \n",
      "Jax         0.923077\n",
      "Ornn        0.888889\n",
      "Camille     0.818182\n",
      "Volibear    0.800000\n",
      "Gnar        0.750000 \n",
      "\n",
      "Top 5 champions winrate aux differents roles:\n",
      " Win - Lose   winrate\n",
      "Jgl                 \n",
      "JarvanIV    0.857143\n",
      "Skarner     0.818182\n",
      "Viego       0.733333\n",
      "Vi          0.708333\n",
      "Maokai      0.689655 \n",
      "\n",
      "Top 5 champions winrate aux differents roles:\n",
      " Win - Lose   winrate\n",
      "Mid                 \n",
      "Syndra      0.833333\n",
      "Smolder     0.800000\n",
      "Ahri        0.720000\n",
      "Taliyah     0.714286\n",
      "Aurora      0.700000 \n",
      "\n",
      "Top 5 champions winrate aux differents roles:\n",
      " Win - Lose    winrate\n",
      "Bot                  \n",
      "Caitlyn      0.777778\n",
      "MissFortune  0.777778\n",
      "Kalista      0.700000\n",
      "Ezreal       0.666667\n",
      "Corki        0.666667 \n",
      "\n",
      "Top 5 champions winrate aux differents roles:\n",
      " Win - Lose   winrate\n",
      "Sup                 \n",
      "Blitzcrank  0.800000\n",
      "Poppy       0.727273\n",
      "Thresh      0.666667\n",
      "Leona       0.650000\n",
      "Renata      0.625000 \n",
      "\n"
     ]
    }
   ],
   "source": [
    "top_performers = {}\n",
    "\n",
    "for role in ['Top', 'Jgl', 'Mid', 'Bot', 'Sup']:\n",
    "    role_stats = df.groupby(role)['Win - Lose'].value_counts().unstack(fill_value=0)\n",
    "    \n",
    "    role_stats['winrate'] = role_stats['Win'] / (role_stats['Win'] + role_stats['Lose'])\n",
    "    \n",
    "    role_stats = role_stats[role_stats['Win'] + role_stats['Lose'] >= 5] # champion avec minimum 5 patch\n",
    "    \n",
    "    top_performers[role] = role_stats.sort_values('winrate', ascending=False).head(5)\n",
    "\n",
    "for role, champions in top_performers.items():\n",
    "    print(f\"Top 5 champions winrate aux differents roles:\\n\", champions[['winrate']], \"\\n\")\n"
   ]
  },
  {
   "cell_type": "markdown",
   "metadata": {},
   "source": [
    "# Test Machine Learning"
   ]
  },
  {
   "cell_type": "code",
   "execution_count": 9,
   "metadata": {},
   "outputs": [],
   "source": [
    "import pandas as pd\n",
    "import numpy as np\n",
    "from sklearn.model_selection import train_test_split\n",
    "from sklearn.preprocessing import LabelEncoder\n",
    "from sklearn.metrics import accuracy_score, classification_report\n",
    "from sklearn.ensemble import RandomForestClassifier\n",
    "\n",
    "\n",
    "df = df.dropna(subset=['Top', 'Jgl', 'Mid', 'Bot', 'Sup', 'Win - Lose'])\n",
    "\n",
    "# Convertit win en valeur 1 = objectif et lose en 0\n",
    "df['Win - Lose'] = df['Win - Lose'].apply(lambda x: 1 if x == 'Win' else 0)\n",
    "\n",
    "# Encode les valeurs numériques\n",
    "le = LabelEncoder()\n",
    "\n",
    "df['Top'] = le.fit_transform(df['Top'])\n",
    "df['Jgl'] = le.fit_transform(df['Jgl'])\n",
    "df['Mid'] = le.fit_transform(df['Mid'])\n",
    "df['Bot'] = le.fit_transform(df['Bot'])\n",
    "df['Sup'] = le.fit_transform(df['Sup'])\n",
    "\n",
    "df['Opponent'] = le.fit_transform(df['Opponent'])\n",
    "df['side'] = le.fit_transform(df['side'])\n",
    "\n",
    "#convertir chaine de carac en nombre\n",
    "df['Patch'] = df['Patch'].str.replace(r'[^\\d.]+', '', regex=True)\n",
    "\n",
    "# Convertir en float\n",
    "df['Patch'] = pd.to_numeric(df['Patch'], errors='coerce')\n",
    "\n",
    "#print(df.head())\n",
    "\n",
    "X = df[['Top', 'Jgl', 'Mid', 'Bot', 'Sup', 'Patch', 'Opponent', 'side']]  \n",
    "y = df['Win - Lose']\n",
    "\n",
    "\n",
    "\n"
   ]
  },
  {
   "cell_type": "code",
   "execution_count": 10,
   "metadata": {},
   "outputs": [
    {
     "data": {
      "text/plain": [
       "(213, 8)"
      ]
     },
     "execution_count": 10,
     "metadata": {},
     "output_type": "execute_result"
    }
   ],
   "source": [
    "X.shape"
   ]
  },
  {
   "cell_type": "code",
   "execution_count": 11,
   "metadata": {},
   "outputs": [
    {
     "name": "stdout",
     "output_type": "stream",
     "text": [
      "Accuracy: 0.50\n",
      "    Feature  Importance\n",
      "6  Opponent    0.207111\n",
      "2       Mid    0.140568\n",
      "1       Jgl    0.136917\n",
      "4       Sup    0.128286\n",
      "0       Top    0.128106\n",
      "3       Bot    0.120339\n",
      "5     Patch    0.089223\n",
      "7      side    0.049451\n"
     ]
    }
   ],
   "source": [
    "X_train, X_test, y_train, y_test = train_test_split(X, y, test_size=0.3, random_state=42,stratify=y)\n",
    "\n",
    "model = RandomForestClassifier(n_estimators=250, random_state=42)\n",
    "\n",
    "model.fit(X_train, y_train)\n",
    "\n",
    "y_pred = model.predict(X_test)\n",
    "\n",
    "accuracy = accuracy_score(y_test, y_pred)\n",
    "print(f\"Accuracy: {accuracy:.2f}\")\n",
    "\n",
    "#print(\"Classification Report:\")\n",
    "#print(classification_report(y_test, y_pred))\n",
    "\n",
    "#interpretation des résultats\n",
    "importances = model.feature_importances_\n",
    "features = X.columns\n",
    "\n",
    "importance_df = pd.DataFrame({'Feature': features, 'Importance': importances})\n",
    "importance_df = importance_df.sort_values(by='Importance', ascending=False)\n",
    "print(importance_df)"
   ]
  },
  {
   "cell_type": "markdown",
   "metadata": {},
   "source": [
    "# StreamLit"
   ]
  },
  {
   "cell_type": "code",
   "execution_count": 14,
   "metadata": {},
   "outputs": [
    {
     "name": "stderr",
     "output_type": "stream",
     "text": [
      "2025-03-11 19:53:36.003 WARNING streamlit.runtime.scriptrunner_utils.script_run_context: Thread 'MainThread': missing ScriptRunContext! This warning can be ignored when running in bare mode.\n",
      "2025-03-11 19:53:36.220 \n",
      "  \u001b[33m\u001b[1mWarning:\u001b[0m to view this Streamlit app on a browser, run it with the following\n",
      "  command:\n",
      "\n",
      "    streamlit run C:\\Users\\33631\\AppData\\Roaming\\Python\\Python313\\site-packages\\ipykernel_launcher.py [ARGUMENTS]\n",
      "2025-03-11 19:53:36.221 Thread 'MainThread': missing ScriptRunContext! This warning can be ignored when running in bare mode.\n",
      "2025-03-11 19:53:36.221 Thread 'MainThread': missing ScriptRunContext! This warning can be ignored when running in bare mode.\n",
      "2025-03-11 19:53:36.221 Thread 'MainThread': missing ScriptRunContext! This warning can be ignored when running in bare mode.\n",
      "2025-03-11 19:53:36.222 Thread 'MainThread': missing ScriptRunContext! This warning can be ignored when running in bare mode.\n",
      "2025-03-11 19:53:36.223 Thread 'MainThread': missing ScriptRunContext! This warning can be ignored when running in bare mode.\n",
      "2025-03-11 19:53:36.224 Session state does not function when running a script without `streamlit run`\n",
      "2025-03-11 19:53:36.225 Thread 'MainThread': missing ScriptRunContext! This warning can be ignored when running in bare mode.\n",
      "2025-03-11 19:53:36.225 Thread 'MainThread': missing ScriptRunContext! This warning can be ignored when running in bare mode.\n",
      "2025-03-11 19:53:36.228 Thread 'MainThread': missing ScriptRunContext! This warning can be ignored when running in bare mode.\n",
      "2025-03-11 19:53:36.228 Thread 'MainThread': missing ScriptRunContext! This warning can be ignored when running in bare mode.\n",
      "2025-03-11 19:53:36.229 Thread 'MainThread': missing ScriptRunContext! This warning can be ignored when running in bare mode.\n",
      "2025-03-11 19:53:36.229 Thread 'MainThread': missing ScriptRunContext! This warning can be ignored when running in bare mode.\n",
      "2025-03-11 19:53:36.500 Thread 'MainThread': missing ScriptRunContext! This warning can be ignored when running in bare mode.\n",
      "2025-03-11 19:53:36.501 Thread 'MainThread': missing ScriptRunContext! This warning can be ignored when running in bare mode.\n"
     ]
    },
    {
     "name": "stdout",
     "output_type": "stream",
     "text": [
      "Le fichier streamlit_app.py a été créé.\n"
     ]
    }
   ],
   "source": [
    "import streamlit as st\n",
    "\n",
    "code =\"\"\n",
    "# Streamlit Title\n",
    "st.title(\"Top 5 Champions by Role\")\n",
    "\n",
    "# Sélection du rôle via un menu déroulant\n",
    "role = st.selectbox(\"Select a Role\", ['Top', 'Jgl', 'Mid', 'Bot', 'Sup'])\n",
    "\n",
    "# Filtrer les 5 champions les plus joués dans le rôle sélectionné\n",
    "role_data = final_df[final_df['role'] == role].nlargest(5, 'count')\n",
    "\n",
    "# Affichage des 5 champions dans le rôle\n",
    "st.write(f\"Top 5 champions in {role} role:\")\n",
    "st.dataframe(role_data[['Champion', 'winrate', 'pickrate', 'count']])\n",
    "\n",
    "# Sauvegarder ce code dans un fichier .py\n",
    "with open(\"streamlit_app.py\", \"w\") as f:\n",
    "    f.write(code)\n",
    "\n",
    "print(\"Le fichier streamlit_app.py a été créé.\")"
   ]
  }
 ],
 "metadata": {
  "accelerator": "GPU",
  "colab": {
   "gpuType": "T4",
   "provenance": []
  },
  "kernelspec": {
   "display_name": "Python 3",
   "name": "python3"
  },
  "language_info": {
   "codemirror_mode": {
    "name": "ipython",
    "version": 3
   },
   "file_extension": ".py",
   "mimetype": "text/x-python",
   "name": "python",
   "nbconvert_exporter": "python",
   "pygments_lexer": "ipython3",
   "version": "3.13.2"
  }
 },
 "nbformat": 4,
 "nbformat_minor": 0
}
